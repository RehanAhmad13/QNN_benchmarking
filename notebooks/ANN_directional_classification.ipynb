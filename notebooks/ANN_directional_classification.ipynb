{
  "cells": [
    {
      "cell_type": "markdown",
      "metadata": {},
      "source": [
        "### Introduction \n",
        "\n",
        "Implementation of senol2009stock. The paper predicts stock return direction using TSI and whether they outperform Logistic regression on the ISE-30 index of Turkey. \n",
        "\n",
        "Total of 27 stocks were trained on. The training period was `1998-01-05 to 2005-12-29`. The testing period was `2006-01-06 to 2007-08-31`. Data source utilised were `Daily prices` which were used to compute technical indicators. The TSI computed were: \n",
        "- *MA14*: 14-day Moving Average          \n",
        "- *MA37*: 37-day Moving Average          \n",
        "- *%K14*:14-day Stochastic Oscillator   \n",
        "- *%D3*:3-day Moving Average of %K14   \n",
        "- *RSI14*:14-day Relative Strength Index \n",
        "\n",
        "\n"
      ]
    },
    {
      "cell_type": "markdown",
      "metadata": {},
      "source": [
        "### Imports"
      ]
    },
    {
      "cell_type": "code",
      "execution_count": 14,
      "metadata": {},
      "outputs": [],
      "source": [
        "import yfinance as yf\n",
        "import pandas as pd\n",
        "import numpy as np\n",
        "\n",
        "from sklearn.metrics import accuracy_score\n",
        "from tensorflow.keras import Sequential\n",
        "from tensorflow.keras.layers import Dense\n",
        "import tensorflow as tf"
      ]
    },
    {
      "cell_type": "markdown",
      "metadata": {},
      "source": [
        "### Tickers\n",
        "\n",
        "We use Yahoo finance to extract relevant tickers. The istanbul ticker is .IS which stands for Istanbul Stock Exchange."
      ]
    },
    {
      "cell_type": "code",
      "execution_count": 4,
      "metadata": {},
      "outputs": [
        {
          "name": "stderr",
          "output_type": "stream",
          "text": [
            "404 Client Error: Not Found for url: https://query2.finance.yahoo.com/v10/finance/quoteSummary/FORTS.IS?modules=financialData%2CquoteType%2CdefaultKeyStatistics%2CassetProfile%2CsummaryDetail&corsDomain=finance.yahoo.com&formatted=false&symbol=FORTS.IS&crumb=5mqGWiPG4um\n",
            "\n",
            "6 Failed downloads:\n",
            "['PTOFS.IS', 'MIGRS.IS', 'DYHOL.IS', 'FINBN.IS']: YFPricesMissingError('possibly delisted; no price data found  (1d 1998-01-05 -> 2007-08-31)')\n",
            "['ISCTR.IS']: YFPricesMissingError('possibly delisted; no price data found  (1d 1998-01-05 -> 2007-08-31) (Yahoo error = \"Data doesn\\'t exist for startDate = 883951200, endDate = 1188507600\")')\n",
            "['FORTS.IS']: AttributeError(\"'NoneType' object has no attribute 'update'\")\n"
          ]
        },
        {
          "data": {
            "text/plain": [
              "(['AKBNK.IS',\n",
              "  'ARCLK.IS',\n",
              "  'DOHOL.IS',\n",
              "  'EREGL.IS',\n",
              "  'GARAN.IS',\n",
              "  'GSDHO.IS',\n",
              "  'HURGZ.IS',\n",
              "  'ISGYO.IS',\n",
              "  'KCHOL.IS',\n",
              "  'PETKM.IS',\n",
              "  'SAHOL.IS',\n",
              "  'SISE.IS',\n",
              "  'SKBNK.IS',\n",
              "  'TCELL.IS',\n",
              "  'THYAO.IS',\n",
              "  'TOASO.IS',\n",
              "  'TSKB.IS',\n",
              "  'TUPRS.IS',\n",
              "  'ULKER.IS',\n",
              "  'VESTL.IS',\n",
              "  'YKBNK.IS'],\n",
              " ['DYHOL.IS', 'FINBN.IS', 'FORTS.IS', 'ISCTR.IS', 'MIGRS.IS', 'PTOFS.IS'])"
            ]
          },
          "execution_count": 4,
          "metadata": {},
          "output_type": "execute_result"
        }
      ],
      "source": [
        "\n",
        "tickers = [\n",
        "    \"AKBNK.IS\", \"ARCLK.IS\", \"DOHOL.IS\", \"DYHOL.IS\", \"EREGL.IS\", \"FINBN.IS\", \"FORTS.IS\",\n",
        "    \"GARAN.IS\", \"GSDHO.IS\", \"HURGZ.IS\", \"ISCTR.IS\", \"ISGYO.IS\", \"KCHOL.IS\", \"MIGRS.IS\",\n",
        "    \"PETKM.IS\", \"PTOFS.IS\", \"SAHOL.IS\", \"SISE.IS\", \"SKBNK.IS\", \"TCELL.IS\", \"THYAO.IS\",\n",
        "    \"TOASO.IS\", \"TSKB.IS\", \"TUPRS.IS\", \"ULKER.IS\", \"VESTL.IS\", \"YKBNK.IS\"\n",
        "]\n",
        "\n",
        "# the date for which we would train\n",
        "start_train = \"1998-01-05\"\n",
        "end_test = \"2007-08-31\"\n",
        "\n",
        "data = yf.download(\n",
        "    tickers,\n",
        "    start=start_train,\n",
        "    end=end_test,\n",
        "    progress=False\n",
        ") # extracting historical data\n",
        "# we will use return as the classification target\n",
        "\n",
        "# before we start training, we need to check if the data is available for all tickers. Some tickers have been delisted, so we need to check. \n",
        "available_tickers = []\n",
        "missing_tickers = []\n",
        "\n",
        "for ticker in tickers:\n",
        "    try:\n",
        "        if not data['Close'][ticker].dropna().empty:\n",
        "            available_tickers.append(ticker)\n",
        "        else:\n",
        "            missing_tickers.append(ticker)\n",
        "    except KeyError:\n",
        "        missing_tickers.append(ticker)\n",
        "\n",
        "available_tickers, missing_tickers\n"
      ]
    },
    {
      "cell_type": "markdown",
      "metadata": {},
      "source": [
        "### UP and Down Days of individual tickers\n",
        "\n",
        "We need to check this to ensure that our classification is not trivial - that is, our classifier is not obtaining a high result by just predicinting the majority class. "
      ]
    },
    {
      "cell_type": "code",
      "execution_count": 6,
      "metadata": {},
      "outputs": [
        {
          "name": "stderr",
          "output_type": "stream",
          "text": [
            "/var/folders/pt/sp05sdk97gn815rx5l248jww0000gn/T/ipykernel_63148/2762146751.py:13: FutureWarning: DataFrame.applymap has been deprecated. Use DataFrame.map instead.\n",
            "  directions = returns.applymap(lambda x: 'Up' if x > 0 else ('Down' if x < 0 else 'Same'))\n"
          ]
        }
      ],
      "source": [
        "\n",
        "train_start = \"1998-01-05\"\n",
        "train_end = \"2005-12-29\"\n",
        "test_start = \"2006-01-06\"\n",
        "test_end = \"2007-08-31\"\n",
        "\n",
        "# Download historical data\n",
        "data = yf.download(available_tickers, start=train_start, end=test_end, progress=False)['Close']\n",
        "\n",
        "# Function to calculate up/down counts\n",
        "def count_up_down_days(close_prices):\n",
        "    returns = close_prices.pct_change()\n",
        "    directions = returns.applymap(lambda x: 'Up' if x > 0 else ('Down' if x < 0 else 'Same'))\n",
        "\n",
        "    # Separate training and testing periods\n",
        "    train_directions = directions[train_start:train_end]\n",
        "    test_directions = directions[test_start:test_end]\n",
        "\n",
        "    # Count up/down days\n",
        "    train_counts = train_directions.apply(lambda col: col.value_counts())\n",
        "    test_counts = test_directions.apply(lambda col: col.value_counts())\n",
        "\n",
        "    return train_counts.fillna(0).astype(int), test_counts.fillna(0).astype(int)\n",
        "\n",
        "train_counts, test_counts = count_up_down_days(data)"
      ]
    },
    {
      "cell_type": "code",
      "execution_count": 12,
      "metadata": {},
      "outputs": [
        {
          "data": {
            "text/html": [
              "<div>\n",
              "<style scoped>\n",
              "    .dataframe tbody tr th:only-of-type {\n",
              "        vertical-align: middle;\n",
              "    }\n",
              "\n",
              "    .dataframe tbody tr th {\n",
              "        vertical-align: top;\n",
              "    }\n",
              "\n",
              "    .dataframe thead th {\n",
              "        text-align: right;\n",
              "    }\n",
              "</style>\n",
              "<table border=\"1\" class=\"dataframe\">\n",
              "  <thead>\n",
              "    <tr style=\"text-align: right;\">\n",
              "      <th>Ticker</th>\n",
              "      <th>AKBNK.IS</th>\n",
              "      <th>ARCLK.IS</th>\n",
              "      <th>DOHOL.IS</th>\n",
              "      <th>EREGL.IS</th>\n",
              "      <th>GARAN.IS</th>\n",
              "      <th>GSDHO.IS</th>\n",
              "      <th>HURGZ.IS</th>\n",
              "      <th>ISGYO.IS</th>\n",
              "      <th>KCHOL.IS</th>\n",
              "      <th>PETKM.IS</th>\n",
              "      <th>...</th>\n",
              "      <th>SISE.IS</th>\n",
              "      <th>SKBNK.IS</th>\n",
              "      <th>TCELL.IS</th>\n",
              "      <th>THYAO.IS</th>\n",
              "      <th>TOASO.IS</th>\n",
              "      <th>TSKB.IS</th>\n",
              "      <th>TUPRS.IS</th>\n",
              "      <th>ULKER.IS</th>\n",
              "      <th>VESTL.IS</th>\n",
              "      <th>YKBNK.IS</th>\n",
              "    </tr>\n",
              "  </thead>\n",
              "  <tbody>\n",
              "    <tr>\n",
              "      <th>Down</th>\n",
              "      <td>543</td>\n",
              "      <td>553</td>\n",
              "      <td>575</td>\n",
              "      <td>537</td>\n",
              "      <td>565</td>\n",
              "      <td>552</td>\n",
              "      <td>567</td>\n",
              "      <td>559</td>\n",
              "      <td>532</td>\n",
              "      <td>539</td>\n",
              "      <td>...</td>\n",
              "      <td>526</td>\n",
              "      <td>579</td>\n",
              "      <td>576</td>\n",
              "      <td>568</td>\n",
              "      <td>559</td>\n",
              "      <td>501</td>\n",
              "      <td>536</td>\n",
              "      <td>200</td>\n",
              "      <td>531</td>\n",
              "      <td>557</td>\n",
              "    </tr>\n",
              "    <tr>\n",
              "      <th>Same</th>\n",
              "      <td>356</td>\n",
              "      <td>360</td>\n",
              "      <td>313</td>\n",
              "      <td>363</td>\n",
              "      <td>320</td>\n",
              "      <td>403</td>\n",
              "      <td>316</td>\n",
              "      <td>382</td>\n",
              "      <td>393</td>\n",
              "      <td>423</td>\n",
              "      <td>...</td>\n",
              "      <td>345</td>\n",
              "      <td>397</td>\n",
              "      <td>355</td>\n",
              "      <td>375</td>\n",
              "      <td>344</td>\n",
              "      <td>432</td>\n",
              "      <td>374</td>\n",
              "      <td>1102</td>\n",
              "      <td>405</td>\n",
              "      <td>351</td>\n",
              "    </tr>\n",
              "    <tr>\n",
              "      <th>Up</th>\n",
              "      <td>573</td>\n",
              "      <td>559</td>\n",
              "      <td>584</td>\n",
              "      <td>572</td>\n",
              "      <td>587</td>\n",
              "      <td>517</td>\n",
              "      <td>589</td>\n",
              "      <td>531</td>\n",
              "      <td>547</td>\n",
              "      <td>510</td>\n",
              "      <td>...</td>\n",
              "      <td>601</td>\n",
              "      <td>496</td>\n",
              "      <td>541</td>\n",
              "      <td>529</td>\n",
              "      <td>569</td>\n",
              "      <td>539</td>\n",
              "      <td>562</td>\n",
              "      <td>170</td>\n",
              "      <td>536</td>\n",
              "      <td>564</td>\n",
              "    </tr>\n",
              "  </tbody>\n",
              "</table>\n",
              "<p>3 rows × 21 columns</p>\n",
              "</div>"
            ],
            "text/plain": [
              "Ticker  AKBNK.IS  ARCLK.IS  DOHOL.IS  EREGL.IS  GARAN.IS  GSDHO.IS  HURGZ.IS  \\\n",
              "Down         543       553       575       537       565       552       567   \n",
              "Same         356       360       313       363       320       403       316   \n",
              "Up           573       559       584       572       587       517       589   \n",
              "\n",
              "Ticker  ISGYO.IS  KCHOL.IS  PETKM.IS  ...  SISE.IS  SKBNK.IS  TCELL.IS  \\\n",
              "Down         559       532       539  ...      526       579       576   \n",
              "Same         382       393       423  ...      345       397       355   \n",
              "Up           531       547       510  ...      601       496       541   \n",
              "\n",
              "Ticker  THYAO.IS  TOASO.IS  TSKB.IS  TUPRS.IS  ULKER.IS  VESTL.IS  YKBNK.IS  \n",
              "Down         568       559      501       536       200       531       557  \n",
              "Same         375       344      432       374      1102       405       351  \n",
              "Up           529       569      539       562       170       536       564  \n",
              "\n",
              "[3 rows x 21 columns]"
            ]
          },
          "execution_count": 12,
          "metadata": {},
          "output_type": "execute_result"
        }
      ],
      "source": [
        "train_counts.head()\n"
      ]
    },
    {
      "cell_type": "code",
      "execution_count": 13,
      "metadata": {},
      "outputs": [
        {
          "data": {
            "text/html": [
              "<div>\n",
              "<style scoped>\n",
              "    .dataframe tbody tr th:only-of-type {\n",
              "        vertical-align: middle;\n",
              "    }\n",
              "\n",
              "    .dataframe tbody tr th {\n",
              "        vertical-align: top;\n",
              "    }\n",
              "\n",
              "    .dataframe thead th {\n",
              "        text-align: right;\n",
              "    }\n",
              "</style>\n",
              "<table border=\"1\" class=\"dataframe\">\n",
              "  <thead>\n",
              "    <tr style=\"text-align: right;\">\n",
              "      <th>Ticker</th>\n",
              "      <th>AKBNK.IS</th>\n",
              "      <th>ARCLK.IS</th>\n",
              "      <th>DOHOL.IS</th>\n",
              "      <th>EREGL.IS</th>\n",
              "      <th>GARAN.IS</th>\n",
              "      <th>GSDHO.IS</th>\n",
              "      <th>HURGZ.IS</th>\n",
              "      <th>ISGYO.IS</th>\n",
              "      <th>KCHOL.IS</th>\n",
              "      <th>PETKM.IS</th>\n",
              "      <th>...</th>\n",
              "      <th>SISE.IS</th>\n",
              "      <th>SKBNK.IS</th>\n",
              "      <th>TCELL.IS</th>\n",
              "      <th>THYAO.IS</th>\n",
              "      <th>TOASO.IS</th>\n",
              "      <th>TSKB.IS</th>\n",
              "      <th>TUPRS.IS</th>\n",
              "      <th>ULKER.IS</th>\n",
              "      <th>VESTL.IS</th>\n",
              "      <th>YKBNK.IS</th>\n",
              "    </tr>\n",
              "  </thead>\n",
              "  <tbody>\n",
              "    <tr>\n",
              "      <th>Down</th>\n",
              "      <td>170</td>\n",
              "      <td>176</td>\n",
              "      <td>179</td>\n",
              "      <td>177</td>\n",
              "      <td>185</td>\n",
              "      <td>186</td>\n",
              "      <td>190</td>\n",
              "      <td>177</td>\n",
              "      <td>177</td>\n",
              "      <td>174</td>\n",
              "      <td>...</td>\n",
              "      <td>183</td>\n",
              "      <td>191</td>\n",
              "      <td>169</td>\n",
              "      <td>171</td>\n",
              "      <td>169</td>\n",
              "      <td>183</td>\n",
              "      <td>170</td>\n",
              "      <td>177</td>\n",
              "      <td>184</td>\n",
              "      <td>188</td>\n",
              "    </tr>\n",
              "    <tr>\n",
              "      <th>Same</th>\n",
              "      <td>64</td>\n",
              "      <td>71</td>\n",
              "      <td>74</td>\n",
              "      <td>59</td>\n",
              "      <td>50</td>\n",
              "      <td>52</td>\n",
              "      <td>53</td>\n",
              "      <td>69</td>\n",
              "      <td>71</td>\n",
              "      <td>79</td>\n",
              "      <td>...</td>\n",
              "      <td>60</td>\n",
              "      <td>58</td>\n",
              "      <td>61</td>\n",
              "      <td>85</td>\n",
              "      <td>61</td>\n",
              "      <td>47</td>\n",
              "      <td>72</td>\n",
              "      <td>70</td>\n",
              "      <td>76</td>\n",
              "      <td>53</td>\n",
              "    </tr>\n",
              "    <tr>\n",
              "      <th>Up</th>\n",
              "      <td>190</td>\n",
              "      <td>177</td>\n",
              "      <td>171</td>\n",
              "      <td>188</td>\n",
              "      <td>189</td>\n",
              "      <td>186</td>\n",
              "      <td>181</td>\n",
              "      <td>178</td>\n",
              "      <td>176</td>\n",
              "      <td>171</td>\n",
              "      <td>...</td>\n",
              "      <td>181</td>\n",
              "      <td>175</td>\n",
              "      <td>194</td>\n",
              "      <td>168</td>\n",
              "      <td>194</td>\n",
              "      <td>194</td>\n",
              "      <td>182</td>\n",
              "      <td>177</td>\n",
              "      <td>164</td>\n",
              "      <td>183</td>\n",
              "    </tr>\n",
              "  </tbody>\n",
              "</table>\n",
              "<p>3 rows × 21 columns</p>\n",
              "</div>"
            ],
            "text/plain": [
              "Ticker  AKBNK.IS  ARCLK.IS  DOHOL.IS  EREGL.IS  GARAN.IS  GSDHO.IS  HURGZ.IS  \\\n",
              "Down         170       176       179       177       185       186       190   \n",
              "Same          64        71        74        59        50        52        53   \n",
              "Up           190       177       171       188       189       186       181   \n",
              "\n",
              "Ticker  ISGYO.IS  KCHOL.IS  PETKM.IS  ...  SISE.IS  SKBNK.IS  TCELL.IS  \\\n",
              "Down         177       177       174  ...      183       191       169   \n",
              "Same          69        71        79  ...       60        58        61   \n",
              "Up           178       176       171  ...      181       175       194   \n",
              "\n",
              "Ticker  THYAO.IS  TOASO.IS  TSKB.IS  TUPRS.IS  ULKER.IS  VESTL.IS  YKBNK.IS  \n",
              "Down         171       169      183       170       177       184       188  \n",
              "Same          85        61       47        72        70        76        53  \n",
              "Up           168       194      194       182       177       164       183  \n",
              "\n",
              "[3 rows x 21 columns]"
            ]
          },
          "execution_count": 13,
          "metadata": {},
          "output_type": "execute_result"
        }
      ],
      "source": [
        "test_counts.head()"
      ]
    },
    {
      "cell_type": "markdown",
      "metadata": {},
      "source": [
        "### Computing Indicators \n",
        "\n",
        "We "
      ]
    },
    {
      "cell_type": "code",
      "execution_count": 16,
      "metadata": {},
      "outputs": [],
      "source": [
        "def compute_indicators(df):\n",
        "    df = df.copy()  # don't wanna mess up original\n",
        "\n",
        "    # moving averages for trend\n",
        "    df['MA14'] = df['Close'].rolling(14).mean()\n",
        "    df['MA37'] = df['Close'].rolling(37).mean()\n",
        "\n",
        "    # stochastic %K and %D\n",
        "    low14 = df['Low'].rolling(14).min()\n",
        "    high14 = df['High'].rolling(14).max()\n",
        "    df['K14'] = 100 * (df['Close'] - low14) / (high14 - low14)\n",
        "    df['D3'] = df['K14'].rolling(3).mean()\n",
        "\n",
        "    # RSI\n",
        "    delta = df['Close'].diff()\n",
        "    gain = delta.clip(lower=0)\n",
        "    loss = -delta.clip(upper=0)\n",
        "    avg_gain = gain.rolling(14).mean()\n",
        "    avg_loss = loss.rolling(14).mean()\n",
        "    rs = avg_gain / avg_loss\n",
        "    df['RSI14'] = 100 - (100 / (1 + rs))\n",
        "\n",
        "    # direction label (up = 1, else 0)\n",
        "    df['Direction'] = (df['Close'].diff() > 0).astype(int)\n",
        "\n",
        "    # just drop the NaNs from all the rolling ops\n",
        "    return df.dropna()\n"
      ]
    },
    {
      "cell_type": "markdown",
      "metadata": {},
      "source": [
        "### Model"
      ]
    },
    {
      "cell_type": "markdown",
      "metadata": {},
      "source": [
        "We performed a grid-search to find the optimum ANN. Here we give the structure of the ANN that performs the best: 3-11-1. "
      ]
    },
    {
      "cell_type": "code",
      "execution_count": null,
      "metadata": {},
      "outputs": [],
      "source": [
        "# 3) build and train a simple ANN\n",
        "def build_and_train_ann(X_tr, y_tr):\n",
        "    # basic feedforward NN: one hidden layer, sigmoid everywhere\n",
        "    model = Sequential()\n",
        "    model.add(Dense(HIDDEN_NEURONS, activation='sigmoid', input_shape=(X_tr.shape[1],)))\n",
        "    model.add(Dense(1, activation='sigmoid'))  # just binary output\n",
        "\n",
        "    # use SGD with high-ish learning rate and momentum (tune later maybe)\n",
        "    opt = tf.keras.optimizers.SGD(learning_rate=0.2, momentum=0.5)\n",
        "\n",
        "    # mse is fine for now – could try binary_crossentropy later\n",
        "    model.compile(optimizer=opt, loss='mean_squared_error')\n",
        "\n",
        "    # quick train — no validation yet, just want to see if it learns\n",
        "    model.fit(X_tr, y_tr, epochs=EPOCHS, verbose=0)  # silence output for now\n",
        "\n",
        "    return model\n"
      ]
    },
    {
      "cell_type": "markdown",
      "metadata": {},
      "source": [
        "# Training"
      ]
    },
    {
      "cell_type": "code",
      "execution_count": 17,
      "metadata": {},
      "outputs": [
        {
          "name": "stderr",
          "output_type": "stream",
          "text": [
            "/Library/Frameworks/Python.framework/Versions/3.12/lib/python3.12/site-packages/keras/src/layers/core/dense.py:87: UserWarning: Do not pass an `input_shape`/`input_dim` argument to a layer. When using Sequential models, prefer using an `Input(shape)` object as the first layer in the model instead.\n",
            "  super().__init__(activity_regularizer=activity_regularizer, **kwargs)\n"
          ]
        },
        {
          "name": "stdout",
          "output_type": "stream",
          "text": [
            "\u001b[1m14/14\u001b[0m \u001b[32m━━━━━━━━━━━━━━━━━━━━\u001b[0m\u001b[37m\u001b[0m \u001b[1m0s\u001b[0m 2ms/step \n",
            "AKBNK.IS → Test accuracy: 0.7877\n"
          ]
        },
        {
          "name": "stderr",
          "output_type": "stream",
          "text": [
            "/Library/Frameworks/Python.framework/Versions/3.12/lib/python3.12/site-packages/keras/src/layers/core/dense.py:87: UserWarning: Do not pass an `input_shape`/`input_dim` argument to a layer. When using Sequential models, prefer using an `Input(shape)` object as the first layer in the model instead.\n",
            "  super().__init__(activity_regularizer=activity_regularizer, **kwargs)\n"
          ]
        },
        {
          "name": "stdout",
          "output_type": "stream",
          "text": [
            "\u001b[1m14/14\u001b[0m \u001b[32m━━━━━━━━━━━━━━━━━━━━\u001b[0m\u001b[37m\u001b[0m \u001b[1m0s\u001b[0m 2ms/step \n",
            "ARCLK.IS → Test accuracy: 0.8184\n"
          ]
        },
        {
          "name": "stderr",
          "output_type": "stream",
          "text": [
            "/Library/Frameworks/Python.framework/Versions/3.12/lib/python3.12/site-packages/keras/src/layers/core/dense.py:87: UserWarning: Do not pass an `input_shape`/`input_dim` argument to a layer. When using Sequential models, prefer using an `Input(shape)` object as the first layer in the model instead.\n",
            "  super().__init__(activity_regularizer=activity_regularizer, **kwargs)\n"
          ]
        },
        {
          "name": "stdout",
          "output_type": "stream",
          "text": [
            "\u001b[1m14/14\u001b[0m \u001b[32m━━━━━━━━━━━━━━━━━━━━\u001b[0m\u001b[37m\u001b[0m \u001b[1m0s\u001b[0m 2ms/step \n",
            "DOHOL.IS → Test accuracy: 0.8373\n"
          ]
        },
        {
          "name": "stderr",
          "output_type": "stream",
          "text": [
            "/Library/Frameworks/Python.framework/Versions/3.12/lib/python3.12/site-packages/keras/src/layers/core/dense.py:87: UserWarning: Do not pass an `input_shape`/`input_dim` argument to a layer. When using Sequential models, prefer using an `Input(shape)` object as the first layer in the model instead.\n",
            "  super().__init__(activity_regularizer=activity_regularizer, **kwargs)\n"
          ]
        },
        {
          "name": "stdout",
          "output_type": "stream",
          "text": [
            "\u001b[1m14/14\u001b[0m \u001b[32m━━━━━━━━━━━━━━━━━━━━\u001b[0m\u001b[37m\u001b[0m \u001b[1m0s\u001b[0m 2ms/step \n",
            "EREGL.IS → Test accuracy: 0.8325\n"
          ]
        },
        {
          "name": "stderr",
          "output_type": "stream",
          "text": [
            "/Library/Frameworks/Python.framework/Versions/3.12/lib/python3.12/site-packages/keras/src/layers/core/dense.py:87: UserWarning: Do not pass an `input_shape`/`input_dim` argument to a layer. When using Sequential models, prefer using an `Input(shape)` object as the first layer in the model instead.\n",
            "  super().__init__(activity_regularizer=activity_regularizer, **kwargs)\n"
          ]
        },
        {
          "name": "stdout",
          "output_type": "stream",
          "text": [
            "\u001b[1m14/14\u001b[0m \u001b[32m━━━━━━━━━━━━━━━━━━━━\u001b[0m\u001b[37m\u001b[0m \u001b[1m0s\u001b[0m 2ms/step \n",
            "GARAN.IS → Test accuracy: 0.7877\n"
          ]
        },
        {
          "name": "stderr",
          "output_type": "stream",
          "text": [
            "/Library/Frameworks/Python.framework/Versions/3.12/lib/python3.12/site-packages/keras/src/layers/core/dense.py:87: UserWarning: Do not pass an `input_shape`/`input_dim` argument to a layer. When using Sequential models, prefer using an `Input(shape)` object as the first layer in the model instead.\n",
            "  super().__init__(activity_regularizer=activity_regularizer, **kwargs)\n"
          ]
        },
        {
          "name": "stdout",
          "output_type": "stream",
          "text": [
            "\u001b[1m14/14\u001b[0m \u001b[32m━━━━━━━━━━━━━━━━━━━━\u001b[0m\u001b[37m\u001b[0m \u001b[1m0s\u001b[0m 2ms/step \n",
            "GSDHO.IS → Test accuracy: 0.7877\n"
          ]
        },
        {
          "name": "stderr",
          "output_type": "stream",
          "text": [
            "/Library/Frameworks/Python.framework/Versions/3.12/lib/python3.12/site-packages/keras/src/layers/core/dense.py:87: UserWarning: Do not pass an `input_shape`/`input_dim` argument to a layer. When using Sequential models, prefer using an `Input(shape)` object as the first layer in the model instead.\n",
            "  super().__init__(activity_regularizer=activity_regularizer, **kwargs)\n"
          ]
        },
        {
          "name": "stdout",
          "output_type": "stream",
          "text": [
            "\u001b[1m14/14\u001b[0m \u001b[32m━━━━━━━━━━━━━━━━━━━━\u001b[0m\u001b[37m\u001b[0m \u001b[1m0s\u001b[0m 2ms/step \n",
            "HURGZ.IS → Test accuracy: 0.8019\n"
          ]
        },
        {
          "name": "stderr",
          "output_type": "stream",
          "text": [
            "/Library/Frameworks/Python.framework/Versions/3.12/lib/python3.12/site-packages/keras/src/layers/core/dense.py:87: UserWarning: Do not pass an `input_shape`/`input_dim` argument to a layer. When using Sequential models, prefer using an `Input(shape)` object as the first layer in the model instead.\n",
            "  super().__init__(activity_regularizer=activity_regularizer, **kwargs)\n"
          ]
        },
        {
          "name": "stdout",
          "output_type": "stream",
          "text": [
            "\u001b[1m14/14\u001b[0m \u001b[32m━━━━━━━━━━━━━━━━━━━━\u001b[0m\u001b[37m\u001b[0m \u001b[1m0s\u001b[0m 2ms/step \n",
            "ISGYO.IS → Test accuracy: 0.8208\n"
          ]
        },
        {
          "name": "stderr",
          "output_type": "stream",
          "text": [
            "/Library/Frameworks/Python.framework/Versions/3.12/lib/python3.12/site-packages/keras/src/layers/core/dense.py:87: UserWarning: Do not pass an `input_shape`/`input_dim` argument to a layer. When using Sequential models, prefer using an `Input(shape)` object as the first layer in the model instead.\n",
            "  super().__init__(activity_regularizer=activity_regularizer, **kwargs)\n"
          ]
        },
        {
          "name": "stdout",
          "output_type": "stream",
          "text": [
            "\u001b[1m14/14\u001b[0m \u001b[32m━━━━━━━━━━━━━━━━━━━━\u001b[0m\u001b[37m\u001b[0m \u001b[1m0s\u001b[0m 2ms/step \n",
            "KCHOL.IS → Test accuracy: 0.8278\n"
          ]
        },
        {
          "name": "stderr",
          "output_type": "stream",
          "text": [
            "/Library/Frameworks/Python.framework/Versions/3.12/lib/python3.12/site-packages/keras/src/layers/core/dense.py:87: UserWarning: Do not pass an `input_shape`/`input_dim` argument to a layer. When using Sequential models, prefer using an `Input(shape)` object as the first layer in the model instead.\n",
            "  super().__init__(activity_regularizer=activity_regularizer, **kwargs)\n"
          ]
        },
        {
          "name": "stdout",
          "output_type": "stream",
          "text": [
            "\u001b[1m14/14\u001b[0m \u001b[32m━━━━━━━━━━━━━━━━━━━━\u001b[0m\u001b[37m\u001b[0m \u001b[1m0s\u001b[0m 2ms/step \n",
            "PETKM.IS → Test accuracy: 0.8137\n"
          ]
        },
        {
          "name": "stderr",
          "output_type": "stream",
          "text": [
            "/Library/Frameworks/Python.framework/Versions/3.12/lib/python3.12/site-packages/keras/src/layers/core/dense.py:87: UserWarning: Do not pass an `input_shape`/`input_dim` argument to a layer. When using Sequential models, prefer using an `Input(shape)` object as the first layer in the model instead.\n",
            "  super().__init__(activity_regularizer=activity_regularizer, **kwargs)\n"
          ]
        },
        {
          "name": "stdout",
          "output_type": "stream",
          "text": [
            "\u001b[1m14/14\u001b[0m \u001b[32m━━━━━━━━━━━━━━━━━━━━\u001b[0m\u001b[37m\u001b[0m \u001b[1m0s\u001b[0m 2ms/step \n",
            "SAHOL.IS → Test accuracy: 0.7524\n"
          ]
        },
        {
          "name": "stderr",
          "output_type": "stream",
          "text": [
            "/Library/Frameworks/Python.framework/Versions/3.12/lib/python3.12/site-packages/keras/src/layers/core/dense.py:87: UserWarning: Do not pass an `input_shape`/`input_dim` argument to a layer. When using Sequential models, prefer using an `Input(shape)` object as the first layer in the model instead.\n",
            "  super().__init__(activity_regularizer=activity_regularizer, **kwargs)\n"
          ]
        },
        {
          "name": "stdout",
          "output_type": "stream",
          "text": [
            "\u001b[1m14/14\u001b[0m \u001b[32m━━━━━━━━━━━━━━━━━━━━\u001b[0m\u001b[37m\u001b[0m \u001b[1m0s\u001b[0m 2ms/step \n",
            "SISE.IS → Test accuracy: 0.7807\n"
          ]
        },
        {
          "name": "stderr",
          "output_type": "stream",
          "text": [
            "/Library/Frameworks/Python.framework/Versions/3.12/lib/python3.12/site-packages/keras/src/layers/core/dense.py:87: UserWarning: Do not pass an `input_shape`/`input_dim` argument to a layer. When using Sequential models, prefer using an `Input(shape)` object as the first layer in the model instead.\n",
            "  super().__init__(activity_regularizer=activity_regularizer, **kwargs)\n"
          ]
        },
        {
          "name": "stdout",
          "output_type": "stream",
          "text": [
            "\u001b[1m14/14\u001b[0m \u001b[32m━━━━━━━━━━━━━━━━━━━━\u001b[0m\u001b[37m\u001b[0m \u001b[1m0s\u001b[0m 2ms/step \n",
            "SKBNK.IS → Test accuracy: 0.7123\n"
          ]
        },
        {
          "name": "stderr",
          "output_type": "stream",
          "text": [
            "/Library/Frameworks/Python.framework/Versions/3.12/lib/python3.12/site-packages/keras/src/layers/core/dense.py:87: UserWarning: Do not pass an `input_shape`/`input_dim` argument to a layer. When using Sequential models, prefer using an `Input(shape)` object as the first layer in the model instead.\n",
            "  super().__init__(activity_regularizer=activity_regularizer, **kwargs)\n"
          ]
        },
        {
          "name": "stdout",
          "output_type": "stream",
          "text": [
            "\u001b[1m14/14\u001b[0m \u001b[32m━━━━━━━━━━━━━━━━━━━━\u001b[0m\u001b[37m\u001b[0m \u001b[1m0s\u001b[0m 2ms/step \n",
            "TCELL.IS → Test accuracy: 0.8019\n"
          ]
        },
        {
          "name": "stderr",
          "output_type": "stream",
          "text": [
            "/Library/Frameworks/Python.framework/Versions/3.12/lib/python3.12/site-packages/keras/src/layers/core/dense.py:87: UserWarning: Do not pass an `input_shape`/`input_dim` argument to a layer. When using Sequential models, prefer using an `Input(shape)` object as the first layer in the model instead.\n",
            "  super().__init__(activity_regularizer=activity_regularizer, **kwargs)\n"
          ]
        },
        {
          "name": "stdout",
          "output_type": "stream",
          "text": [
            "\u001b[1m14/14\u001b[0m \u001b[32m━━━━━━━━━━━━━━━━━━━━\u001b[0m\u001b[37m\u001b[0m \u001b[1m0s\u001b[0m 2ms/step \n",
            "THYAO.IS → Test accuracy: 0.8396\n"
          ]
        },
        {
          "name": "stderr",
          "output_type": "stream",
          "text": [
            "/Library/Frameworks/Python.framework/Versions/3.12/lib/python3.12/site-packages/keras/src/layers/core/dense.py:87: UserWarning: Do not pass an `input_shape`/`input_dim` argument to a layer. When using Sequential models, prefer using an `Input(shape)` object as the first layer in the model instead.\n",
            "  super().__init__(activity_regularizer=activity_regularizer, **kwargs)\n"
          ]
        },
        {
          "name": "stdout",
          "output_type": "stream",
          "text": [
            "\u001b[1m14/14\u001b[0m \u001b[32m━━━━━━━━━━━━━━━━━━━━\u001b[0m\u001b[37m\u001b[0m \u001b[1m0s\u001b[0m 2ms/step \n",
            "TOASO.IS → Test accuracy: 0.7995\n"
          ]
        },
        {
          "name": "stderr",
          "output_type": "stream",
          "text": [
            "/Library/Frameworks/Python.framework/Versions/3.12/lib/python3.12/site-packages/keras/src/layers/core/dense.py:87: UserWarning: Do not pass an `input_shape`/`input_dim` argument to a layer. When using Sequential models, prefer using an `Input(shape)` object as the first layer in the model instead.\n",
            "  super().__init__(activity_regularizer=activity_regularizer, **kwargs)\n"
          ]
        },
        {
          "name": "stdout",
          "output_type": "stream",
          "text": [
            "\u001b[1m14/14\u001b[0m \u001b[32m━━━━━━━━━━━━━━━━━━━━\u001b[0m\u001b[37m\u001b[0m \u001b[1m0s\u001b[0m 2ms/step \n",
            "TSKB.IS → Test accuracy: 0.7948\n"
          ]
        },
        {
          "name": "stderr",
          "output_type": "stream",
          "text": [
            "/Library/Frameworks/Python.framework/Versions/3.12/lib/python3.12/site-packages/keras/src/layers/core/dense.py:87: UserWarning: Do not pass an `input_shape`/`input_dim` argument to a layer. When using Sequential models, prefer using an `Input(shape)` object as the first layer in the model instead.\n",
            "  super().__init__(activity_regularizer=activity_regularizer, **kwargs)\n"
          ]
        },
        {
          "name": "stdout",
          "output_type": "stream",
          "text": [
            "\u001b[1m14/14\u001b[0m \u001b[32m━━━━━━━━━━━━━━━━━━━━\u001b[0m\u001b[37m\u001b[0m \u001b[1m0s\u001b[0m 2ms/step \n",
            "TUPRS.IS → Test accuracy: 0.8066\n"
          ]
        },
        {
          "name": "stderr",
          "output_type": "stream",
          "text": [
            "/Library/Frameworks/Python.framework/Versions/3.12/lib/python3.12/site-packages/keras/src/layers/core/dense.py:87: UserWarning: Do not pass an `input_shape`/`input_dim` argument to a layer. When using Sequential models, prefer using an `Input(shape)` object as the first layer in the model instead.\n",
            "  super().__init__(activity_regularizer=activity_regularizer, **kwargs)\n"
          ]
        },
        {
          "name": "stdout",
          "output_type": "stream",
          "text": [
            "\u001b[1m14/14\u001b[0m \u001b[32m━━━━━━━━━━━━━━━━━━━━\u001b[0m\u001b[37m\u001b[0m \u001b[1m0s\u001b[0m 2ms/step \n",
            "ULKER.IS → Test accuracy: 0.8066\n"
          ]
        },
        {
          "name": "stderr",
          "output_type": "stream",
          "text": [
            "/Library/Frameworks/Python.framework/Versions/3.12/lib/python3.12/site-packages/keras/src/layers/core/dense.py:87: UserWarning: Do not pass an `input_shape`/`input_dim` argument to a layer. When using Sequential models, prefer using an `Input(shape)` object as the first layer in the model instead.\n",
            "  super().__init__(activity_regularizer=activity_regularizer, **kwargs)\n"
          ]
        },
        {
          "name": "stdout",
          "output_type": "stream",
          "text": [
            "\u001b[1m14/14\u001b[0m \u001b[32m━━━━━━━━━━━━━━━━━━━━\u001b[0m\u001b[37m\u001b[0m \u001b[1m0s\u001b[0m 2ms/step \n",
            "VESTL.IS → Test accuracy: 0.8325\n"
          ]
        },
        {
          "name": "stderr",
          "output_type": "stream",
          "text": [
            "/Library/Frameworks/Python.framework/Versions/3.12/lib/python3.12/site-packages/keras/src/layers/core/dense.py:87: UserWarning: Do not pass an `input_shape`/`input_dim` argument to a layer. When using Sequential models, prefer using an `Input(shape)` object as the first layer in the model instead.\n",
            "  super().__init__(activity_regularizer=activity_regularizer, **kwargs)\n"
          ]
        },
        {
          "name": "stdout",
          "output_type": "stream",
          "text": [
            "\u001b[1m14/14\u001b[0m \u001b[32m━━━━━━━━━━━━━━━━━━━━\u001b[0m\u001b[37m\u001b[0m \u001b[1m0s\u001b[0m 2ms/step \n",
            "YKBNK.IS → Test accuracy: 0.8160\n",
            "\n",
            "Average Test Accuracy across 27 stocks: 0.8028\n"
          ]
        }
      ],
      "source": [
        "\n",
        "TICKERS = available_tickers\n",
        "START_TRAIN, END_TRAIN = \"1998-01-05\", \"2005-12-29\"\n",
        "START_TEST,  END_TEST  = \"2006-01-06\", \"2007-08-31\"\n",
        "FEATURES = ['RSI14','K14','D3']   \n",
        "HIDDEN_NEURONS = 11\n",
        "EPOCHS = 10000\n",
        "\n",
        "raw = yf.download(TICKERS, start=START_TRAIN, end=END_TEST, progress=False)\n",
        "\n",
        "results = []\n",
        "for ticker in TICKERS:\n",
        "    # assemble OHLCV\n",
        "    df = pd.DataFrame({\n",
        "        'Close': raw['Close'][ticker],\n",
        "        'High':  raw['High'][ticker],\n",
        "        'Low':   raw['Low'][ticker],\n",
        "        'Volume':raw['Volume'][ticker]\n",
        "    }).dropna()\n",
        "    df = compute_indicators(df)\n",
        "\n",
        "    # split indices\n",
        "    tr_idx = df.index <= END_TRAIN\n",
        "    te_idx = df.index >= START_TEST\n",
        "\n",
        "    X = df[FEATURES].values\n",
        "    y = df['Direction'].values\n",
        "\n",
        "    X_tr, y_tr = X[tr_idx], y[tr_idx]\n",
        "    X_te, y_te = X[te_idx], y[te_idx]\n",
        "\n",
        "    # train & evaluate ANN\n",
        "    ann = build_and_train_ann(X_tr, y_tr)\n",
        "    preds = (ann.predict(X_te) > 0.5).astype(int).ravel()\n",
        "    acc  = accuracy_score(y_te, preds)\n",
        "    results.append({'ticker': ticker, 'accuracy': acc})\n",
        "    print(f\"{ticker:7s} → Test accuracy: {acc:.4f}\")\n",
        "\n",
        "# 5) Summary\n",
        "res_df = pd.DataFrame(results)\n",
        "print(\"\\nAverage Test Accuracy across available stocks: \"\n",
        "      f\"{res_df['accuracy'].mean():.4f}\")\n"
      ]
    },
    {
      "cell_type": "code",
      "execution_count": null,
      "metadata": {},
      "outputs": [],
      "source": []
    }
  ],
  "metadata": {
    "colab": {
      "provenance": []
    },
    "kernelspec": {
      "display_name": "Python 3",
      "name": "python3"
    },
    "language_info": {
      "codemirror_mode": {
        "name": "ipython",
        "version": 3
      },
      "file_extension": ".py",
      "mimetype": "text/x-python",
      "name": "python",
      "nbconvert_exporter": "python",
      "pygments_lexer": "ipython3",
      "version": "3.12.6"
    }
  },
  "nbformat": 4,
  "nbformat_minor": 0
}
